{
 "cells": [
  {
   "cell_type": "code",
   "execution_count": null,
   "metadata": {},
   "outputs": [],
   "source": [
    "%load_ext autoreload\n",
    "%autoreload 2\n",
    "%matplotlib inline\n",
    "%config InlineBackend.figure_format = 'retina'"
   ]
  },
  {
   "cell_type": "markdown",
   "metadata": {},
   "source": [
    "## Introduction\n",
    "\n",
    "In this notebook, we are going to introduce you to the wonderful world of probabilistic inference using PyMC3!\n",
    "\n",
    "In the spirit of sticking with simple complex examples, we are going to continue exploring the classic coin flip model."
   ]
  },
  {
   "cell_type": "markdown",
   "metadata": {},
   "source": [
    "## Probabilistic Model in PyMC3\n",
    "\n",
    "Let's take that coin flip model with Beta-distributed $p$, and implement it in PyMC3 code."
   ]
  },
  {
   "cell_type": "markdown",
   "metadata": {},
   "source": [
    "In math-y syntax:\n",
    "\n",
    "$$ p \\sim Beta(\\alpha=2, \\beta=2)$$\n",
    "$$ data \\sim Bernoulli(p=p)$$\n",
    "\n",
    "and to job your memory, how we wrote it in the previous notebook using `scipy.stats`:"
   ]
  },
  {
   "cell_type": "code",
   "execution_count": null,
   "metadata": {},
   "outputs": [],
   "source": [
    "import pymc3 as pm\n",
    "\n",
    "data = [1, 0, 1, 1, 0, 0, 1, 0, 1, 1, 1, 1,]\n",
    "\n",
    "with pm.Model() as model:\n",
    "    p = pm.Beta(\"p\", alpha=2, beta=2)\n",
    "    data = pm.Bernoulli(\"data\", p=p)"
   ]
  },
  {
   "cell_type": "markdown",
   "metadata": {},
   "source": [
    "Just like that, we have specified a probabilistic model for coin flips!\n",
    "Notice how, first of all, the syntax matches very closely\n",
    "to how the probabilistic model is written in traditional math syntax:"
   ]
  },
  {
   "cell_type": "code",
   "execution_count": null,
   "metadata": {},
   "outputs": [],
   "source": [
    "from bayes_tutorial.solutions.simulation import coin_flip_generator_v2\n",
    "\n",
    "coin_flip_generator_v2??"
   ]
  },
  {
   "cell_type": "markdown",
   "metadata": {},
   "source": [
    "It should be clear that by expressing our model using the language of probability distributions,\n",
    "we gain the ability to concisely write down statistical models.\n",
    "\n",
    "Now, how does data come into play here? "
   ]
  },
  {
   "cell_type": "code",
   "execution_count": null,
   "metadata": {},
   "outputs": [],
   "source": []
  }
 ],
 "metadata": {
  "kernelspec": {
   "display_name": "bayesian-modelling-tutorial",
   "language": "python",
   "name": "bayesian-modelling-tutorial"
  },
  "language_info": {
   "codemirror_mode": {
    "name": "ipython",
    "version": 3
   },
   "file_extension": ".py",
   "mimetype": "text/x-python",
   "name": "python",
   "nbconvert_exporter": "python",
   "pygments_lexer": "ipython3",
   "version": "3.7.6"
  }
 },
 "nbformat": 4,
 "nbformat_minor": 4
}
