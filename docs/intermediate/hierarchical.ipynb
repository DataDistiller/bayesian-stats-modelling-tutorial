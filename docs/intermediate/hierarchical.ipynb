{
 "cells": [
  {
   "cell_type": "code",
   "execution_count": null,
   "metadata": {},
   "outputs": [],
   "source": [
    "%load_ext autoreload\n",
    "%autoreload 2\n",
    "%matplotlib inline\n",
    "%config InlineBackend.figure_format = 'retina'"
   ]
  },
  {
   "cell_type": "markdown",
   "metadata": {},
   "source": [
    "## Introduction"
   ]
  },
  {
   "cell_type": "markdown",
   "metadata": {},
   "source": [
    "## Hierarchical Models"
   ]
  },
  {
   "cell_type": "code",
   "execution_count": null,
   "metadata": {},
   "outputs": [],
   "source": [
    "from bayes_tutorial.data import load_ice_cream"
   ]
  },
  {
   "cell_type": "code",
   "execution_count": null,
   "metadata": {},
   "outputs": [],
   "source": [
    "data = load_ice_cream()\n",
    "data.head()"
   ]
  },
  {
   "cell_type": "markdown",
   "metadata": {},
   "source": [
    "## Logit transforms"
   ]
  },
  {
   "cell_type": "code",
   "execution_count": null,
   "metadata": {},
   "outputs": [],
   "source": []
  },
  {
   "cell_type": "markdown",
   "metadata": {},
   "source": [
    "## Hierarchical model for \"indie\" stores"
   ]
  },
  {
   "cell_type": "code",
   "execution_count": null,
   "metadata": {},
   "outputs": [],
   "source": [
    "import pymc3 as pm\n",
    "\n",
    "n_shops = len(data[\"owner_idx\"].unique())\n",
    "with pm.Model() as model:\n",
    "    logit_p_population = pm.Normal(\"logit_p_population\", mu=0, sigma=1)\n",
    "    logit_p_owner = pm.Normal(\"logit_p_owner\", mu=logit_p_population, sigma=1, shape=(n_shops,))       # somewhat uninformative priors\n",
    "    \n",
    "    logit_p_shop = pm.Normal(\"logit_p_shop\", mu=logit_p_owner[data[\"owner_idx\"]], sigma=3, shape=(len(data),))\n",
    "    \n",
    "    p_shop = pm.Deterministic(\"p_shop\", pm.invlogit(logit_p_shop))\n",
    "    p_owner = pm.Deterministic(\"p_owner\", pm.invlogit(logit_p_owner))\n",
    "    like = pm.Binomial(\"like\", n=data[\"num_customers\"], p=p_shop, observed=data[\"num_favs\"])\n",
    "    "
   ]
  },
  {
   "cell_type": "code",
   "execution_count": null,
   "metadata": {},
   "outputs": [],
   "source": [
    "with model:\n",
    "    trace = pm.sample(2000)"
   ]
  },
  {
   "cell_type": "code",
   "execution_count": null,
   "metadata": {},
   "outputs": [],
   "source": [
    "import arviz as az\n",
    "\n",
    "with model:\n",
    "    trace = az.from_pymc3(trace, coords={\"p_shop_dim_0\": data[\"shopname\"]})"
   ]
  },
  {
   "cell_type": "code",
   "execution_count": null,
   "metadata": {},
   "outputs": [],
   "source": [
    "az.plot_posterior(trace, var_names=[\"p_owner\"]);"
   ]
  },
  {
   "cell_type": "code",
   "execution_count": null,
   "metadata": {},
   "outputs": [],
   "source": [
    "az.plot_forest(trace, var_names=[\"p_owner\"]);"
   ]
  },
  {
   "cell_type": "code",
   "execution_count": null,
   "metadata": {},
   "outputs": [],
   "source": [
    "import janitor\n",
    "\n",
    "quantiles = (\n",
    "    trace.posterior\n",
    "    .stack(draws=(\"chain\", \"draw\"))\n",
    "    [\"p_owner\"]\n",
    "    .quantile(q=[0.03, 0.5, 0.97], dim=(\"draws\"))\n",
    ")\n",
    "quantiles = (\n",
    "    quantiles\n",
    "    .to_dataframe()\n",
    "    .reset_index()\n",
    "    .pivot_table(columns=\"quantile\", index=\"p_owner_dim_0\", values=\"p_owner\")\n",
    "    .join_apply(lambda x: x[0.97] - x[0.03], \"width\")\n",
    ")\n",
    "quantiles"
   ]
  },
  {
   "cell_type": "code",
   "execution_count": null,
   "metadata": {},
   "outputs": [],
   "source": []
  }
 ],
 "metadata": {
  "kernelspec": {
   "display_name": "bayesian-modelling-tutorial",
   "language": "python",
   "name": "bayesian-modelling-tutorial"
  },
  "language_info": {
   "codemirror_mode": {
    "name": "ipython",
    "version": 3
   },
   "file_extension": ".py",
   "mimetype": "text/x-python",
   "name": "python",
   "nbconvert_exporter": "python",
   "pygments_lexer": "ipython3",
   "version": "3.7.6"
  }
 },
 "nbformat": 4,
 "nbformat_minor": 4
}
